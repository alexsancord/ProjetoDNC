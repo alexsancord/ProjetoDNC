{
 "cells": [
  {
   "cell_type": "code",
   "execution_count": 3,
   "metadata": {},
   "outputs": [
    {
     "name": "stdout",
     "output_type": "stream",
     "text": [
      "20667\n"
     ]
    }
   ],
   "source": [
    "# encontra o somatório dos números entre 1 e 500 que são ímpares e multiplos de 3\n",
    "soma = 0\n",
    "for i in range(0,501,3):\n",
    "    if i%2 != 0:\n",
    "        #print('esse é o valor de i: ',i, end=' ')\n",
    "        soma+=i\n",
    "print(soma)\n"
   ]
  }
 ],
 "metadata": {
  "interpreter": {
   "hash": "335f003c42aa5680a9c27fb86df36cee9a2f6b0c7b77988fc1bb97607f9d5004"
  },
  "kernelspec": {
   "display_name": "Python 3.10.4 64-bit",
   "language": "python",
   "name": "python3"
  },
  "language_info": {
   "codemirror_mode": {
    "name": "ipython",
    "version": 3
   },
   "file_extension": ".py",
   "mimetype": "text/x-python",
   "name": "python",
   "nbconvert_exporter": "python",
   "pygments_lexer": "ipython3",
   "version": "3.10.4"
  },
  "orig_nbformat": 4
 },
 "nbformat": 4,
 "nbformat_minor": 2
}
